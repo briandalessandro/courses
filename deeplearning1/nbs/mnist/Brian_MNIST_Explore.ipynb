{
 "cells": [
  {
   "cell_type": "code",
   "execution_count": 20,
   "metadata": {
    "collapsed": false
   },
   "outputs": [],
   "source": [
    "import os, sys\n",
    "import pandas as pd\n",
    "import numpy as np\n",
    "from PIL import Image\n",
    "from matplotlib import pyplot as plt\n",
    "%matplotlib inline\n",
    "\n",
    "HOME = os.getenv(\"HOME\")\n",
    "DATA_DIR = HOME + '/data/mnist/'\n",
    "\n"
   ]
  },
  {
   "cell_type": "code",
   "execution_count": 25,
   "metadata": {
    "collapsed": false
   },
   "outputs": [],
   "source": [
    "#One way to show an image\n",
    "r = np.random.rand(28, 28, 3)\n",
    "img = Image.fromarray(r, 'RGB')\n",
    "img.show()"
   ]
  },
  {
   "cell_type": "code",
   "execution_count": 26,
   "metadata": {
    "collapsed": false
   },
   "outputs": [
    {
     "data": {
      "image/png": "[encoded data removed]",
      "text/plain": [
       "<matplotlib.figure.Figure at 0x113c30490>"
      ]
     },
     "metadata": {},
     "output_type": "display_data"
    }
   ],
   "source": [
    "#another way\n",
    "plt.imshow(r, interpolation='nearest')\n",
    "plt.show()"
   ]
  },
  {
   "cell_type": "markdown",
   "metadata": {},
   "source": [
    "# Data Prep and Exploration"
   ]
  },
  {
   "cell_type": "code",
   "execution_count": 66,
   "metadata": {
    "collapsed": true
   },
   "outputs": [],
   "source": [
    "train = pd.read_csv(DATA_DIR + 'train.csv')"
   ]
  },
  {
   "cell_type": "code",
   "execution_count": 124,
   "metadata": {
    "collapsed": false
   },
   "outputs": [],
   "source": [
    "from keras.utils.np_utils import to_categorical\n",
    "\n",
    "split_ind = int(0.8 * train.shape[0])\n",
    "X = train.iloc[:, 1:].values / 255.0\n",
    "X_reshape = np.reshape(X, (X.shape[0], 28, 28, 1))\n",
    "X_train = X_reshape[:split_ind, :]\n",
    "X_val = X_reshape[split_ind:, :] \n",
    "Y_train = train.iloc[:split_ind, 0].values\n",
    "Y_val = train.iloc[split_ind:, 0].values\n",
    "y_train_ohe = to_categorical(Y_train)\n",
    "y_val_ohe = to_categorical(Y_val)"
   ]
  },
  {
   "cell_type": "code",
   "execution_count": 151,
   "metadata": {
    "collapsed": false
   },
   "outputs": [
    {
     "data": {
      "image/png": "[encoded data removed]",
      "text/plain": [
       "<matplotlib.figure.Figure at 0x119153ed0>"
      ]
     },
     "metadata": {},
     "output_type": "display_data"
    }
   ],
   "source": [
    "#plot the first few number images\n",
    "s = 16\n",
    "X_plot = np.reshape(X, (X.shape[0], 28, 28))\n",
    "fig = plt.figure()\n",
    "for i in range(16):\n",
    "    fig.add_subplot(4, 4, i + 1)\n",
    "    plt.imshow(X_plot[i] * 255.0, interpolation='nearest', cmap = 'gray')\n",
    "    plt.xticks([])\n",
    "    plt.yticks([])"
   ]
  },
  {
   "cell_type": "markdown",
   "metadata": {},
   "source": [
    "# Build the network"
   ]
  },
  {
   "cell_type": "code",
   "execution_count": 71,
   "metadata": {
    "collapsed": false
   },
   "outputs": [],
   "source": [
    "from keras.models import Sequential\n",
    "from keras.layers import Dense, Dropout, Activation, Flatten\n",
    "from keras.layers import Convolution2D, MaxPooling2D\n",
    "from keras.optimizers import SGD"
   ]
  },
  {
   "cell_type": "markdown",
   "metadata": {},
   "source": [
    "## Simple Conv2 Network"
   ]
  },
  {
   "cell_type": "code",
   "execution_count": 139,
   "metadata": {
    "collapsed": false
   },
   "outputs": [],
   "source": [
    "model = Sequential()\n",
    "model.add(Convolution2D(32, 3, 3, border_mode = 'same', \n",
    "                        input_shape = (28, 28, 1), activation = 'relu'))\n",
    "\n",
    "model.add(MaxPooling2D(pool_size = (2,2), strides = None))\n",
    "model.add(Flatten())\n",
    "\n",
    "model.add(Dense(10, activation='softmax'))\n",
    "model.compile(optimizer = 'adam',  loss='categorical_crossentropy', metrics = ['accuracy'])"
   ]
  },
  {
   "cell_type": "code",
   "execution_count": 140,
   "metadata": {
    "collapsed": false
   },
   "outputs": [
    {
     "name": "stdout",
     "output_type": "stream",
     "text": [
      "Train on 2000 samples, validate on 1000 samples\n",
      "Epoch 1/5\n",
      "2000/2000 [==============================] - 1s - loss: 1.1162 - acc: 0.7040 - val_loss: 0.5227 - val_acc: 0.8140\n",
      "Epoch 2/5\n",
      "2000/2000 [==============================] - 1s - loss: 0.4151 - acc: 0.8760 - val_loss: 0.3752 - val_acc: 0.8790\n",
      "Epoch 3/5\n",
      "2000/2000 [==============================] - 1s - loss: 0.3153 - acc: 0.9055 - val_loss: 0.3392 - val_acc: 0.8890\n",
      "Epoch 4/5\n",
      "2000/2000 [==============================] - 1s - loss: 0.2544 - acc: 0.9255 - val_loss: 0.3083 - val_acc: 0.9020\n",
      "Epoch 5/5\n",
      "2000/2000 [==============================] - 1s - loss: 0.2220 - acc: 0.9395 - val_loss: 0.2902 - val_acc: 0.9120\n"
     ]
    },
    {
     "data": {
      "text/plain": [
       "<keras.callbacks.History at 0x1261ef7d0>"
      ]
     },
     "execution_count": 140,
     "metadata": {},
     "output_type": "execute_result"
    }
   ],
   "source": [
    "model.fit(X_train[:2000, :], y_train_ohe[:2000], batch_size = 32, nb_epoch = 5,\n",
    "         validation_data = (X_val[2000:3000, :], y_val_ohe[2000:3000]))"
   ]
  },
  {
   "cell_type": "markdown",
   "metadata": {},
   "source": [
    "## Purely Dense network"
   ]
  },
  {
   "cell_type": "code",
   "execution_count": 141,
   "metadata": {
    "collapsed": true
   },
   "outputs": [],
   "source": [
    "model = Sequential()\n",
    "model.add(Dense(50, activation='relu', input_dim = 784))\n",
    "model.add(Dense(50, activation='relu'))\n",
    "model.add(Dense(10, activation='softmax', W_regularizer = 'l2'))\n",
    "model.compile(optimizer = 'adam',  loss='categorical_crossentropy', metrics = ['accuracy'])"
   ]
  },
  {
   "cell_type": "code",
   "execution_count": 142,
   "metadata": {
    "collapsed": false
   },
   "outputs": [
    {
     "name": "stdout",
     "output_type": "stream",
     "text": [
      "Train on 2000 samples, validate on 1000 samples\n",
      "Epoch 1/20\n",
      "2000/2000 [==============================] - 0s - loss: 1.6387 - acc: 0.5800 - val_loss: 3.9232 - val_acc: 0.0910\n",
      "Epoch 2/20\n",
      "2000/2000 [==============================] - 0s - loss: 0.7175 - acc: 0.8555 - val_loss: 5.3672 - val_acc: 0.0920\n",
      "Epoch 3/20\n",
      "2000/2000 [==============================] - 0s - loss: 0.5305 - acc: 0.9025 - val_loss: 6.1482 - val_acc: 0.0930\n",
      "Epoch 4/20\n",
      "2000/2000 [==============================] - 0s - loss: 0.4550 - acc: 0.9205 - val_loss: 6.5739 - val_acc: 0.0960\n",
      "Epoch 5/20\n",
      "2000/2000 [==============================] - 0s - loss: 0.3874 - acc: 0.9350 - val_loss: 6.9852 - val_acc: 0.0940\n",
      "Epoch 6/20\n",
      "2000/2000 [==============================] - 0s - loss: 0.3480 - acc: 0.9395 - val_loss: 7.3057 - val_acc: 0.0920\n",
      "Epoch 7/20\n",
      "2000/2000 [==============================] - 0s - loss: 0.3057 - acc: 0.9560 - val_loss: 7.6100 - val_acc: 0.0930\n",
      "Epoch 8/20\n",
      "2000/2000 [==============================] - 0s - loss: 0.2827 - acc: 0.9640 - val_loss: 7.8623 - val_acc: 0.0940\n",
      "Epoch 9/20\n",
      "2000/2000 [==============================] - 0s - loss: 0.2621 - acc: 0.9655 - val_loss: 8.0370 - val_acc: 0.0980\n",
      "Epoch 10/20\n",
      "2000/2000 [==============================] - 0s - loss: 0.2351 - acc: 0.9780 - val_loss: 8.2431 - val_acc: 0.0970\n",
      "Epoch 11/20\n",
      "2000/2000 [==============================] - 0s - loss: 0.2187 - acc: 0.9800 - val_loss: 8.4486 - val_acc: 0.0980\n",
      "Epoch 12/20\n",
      "2000/2000 [==============================] - 0s - loss: 0.2064 - acc: 0.9825 - val_loss: 8.5718 - val_acc: 0.0970\n",
      "Epoch 13/20\n",
      "2000/2000 [==============================] - 0s - loss: 0.1904 - acc: 0.9865 - val_loss: 8.7185 - val_acc: 0.0940\n",
      "Epoch 14/20\n",
      "2000/2000 [==============================] - 0s - loss: 0.1786 - acc: 0.9920 - val_loss: 8.9056 - val_acc: 0.0930\n",
      "Epoch 15/20\n",
      "2000/2000 [==============================] - 0s - loss: 0.1659 - acc: 0.9925 - val_loss: 9.0070 - val_acc: 0.0930\n",
      "Epoch 16/20\n",
      "2000/2000 [==============================] - 0s - loss: 0.1558 - acc: 0.9950 - val_loss: 9.0901 - val_acc: 0.0920\n",
      "Epoch 17/20\n",
      "2000/2000 [==============================] - 0s - loss: 0.1477 - acc: 0.9955 - val_loss: 9.1895 - val_acc: 0.0940\n",
      "Epoch 18/20\n",
      "2000/2000 [==============================] - 0s - loss: 0.1421 - acc: 0.9970 - val_loss: 9.3253 - val_acc: 0.0950\n",
      "Epoch 19/20\n",
      "2000/2000 [==============================] - 0s - loss: 0.1335 - acc: 0.9965 - val_loss: 9.3812 - val_acc: 0.0940\n",
      "Epoch 20/20\n",
      "2000/2000 [==============================] - 0s - loss: 0.1274 - acc: 0.9985 - val_loss: 9.4986 - val_acc: 0.0970\n"
     ]
    },
    {
     "data": {
      "text/plain": [
       "<keras.callbacks.History at 0x12849a610>"
      ]
     },
     "execution_count": 142,
     "metadata": {},
     "output_type": "execute_result"
    }
   ],
   "source": [
    "model.fit(X[:2000, :], y_train_ohe[:2000], batch_size = 32, nb_epoch = 20,\n",
    "         validation_data = (X[2000:3000, :], y_val_ohe[2000:3000]))"
   ]
  },
  {
   "cell_type": "markdown",
   "metadata": {},
   "source": [
    "## RF"
   ]
  },
  {
   "cell_type": "code",
   "execution_count": 147,
   "metadata": {
    "collapsed": false
   },
   "outputs": [],
   "source": [
    "from sklearn.ensemble import RandomForestClassifier\n",
    "from sklearn.metrics import accuracy_score\n",
    "\n",
    "rf = RandomForestClassifier(n_estimators = 100)\n",
    "rf.fit(X[:split_ind, :], y_train_ohe)\n",
    "preds = rf.predict(X[split_ind:])\n",
    "accuracy_score(y_val_ohe, preds)"
   ]
  },
  {
   "cell_type": "markdown",
   "metadata": {},
   "source": [
    "## Better Conv Network"
   ]
  },
  {
   "cell_type": "code",
   "execution_count": 162,
   "metadata": {
    "collapsed": false
   },
   "outputs": [],
   "source": [
    "model = Sequential()\n",
    "model.add(Convolution2D(32, 3, 3, border_mode = 'same', \n",
    "                        input_shape = (28, 28, 1), activation = 'relu'))\n",
    "\n",
    "model.add(Convolution2D(64, 3, 3, border_mode = 'same', \n",
    "                        input_shape = (28, 28, 1), activation = 'relu'))\n",
    "\n",
    "model.add(Convolution2D(128, 3, 3, border_mode = 'same', \n",
    "                        input_shape = (28, 28, 1), activation = 'relu'))\n",
    "\n",
    "model.add(MaxPooling2D(pool_size = (2,2), strides = None))\n",
    "model.add(Dropout(0.5))\n",
    "model.add(Flatten())\n",
    "\n",
    "\n",
    "#model.add(Dense(50, activation='softmax'))\n",
    "model.add(Dense(10, activation='softmax'))\n",
    "model.compile(optimizer = 'adam',  loss='categorical_crossentropy', metrics = ['accuracy'])"
   ]
  },
  {
   "cell_type": "code",
   "execution_count": 163,
   "metadata": {
    "collapsed": false
   },
   "outputs": [
    {
     "name": "stdout",
     "output_type": "stream",
     "text": [
      "Train on 2000 samples, validate on 1000 samples\n",
      "Epoch 1/5\n",
      "2000/2000 [==============================] - 24s - loss: 0.7839 - acc: 0.7415 - val_loss: 0.2938 - val_acc: 0.8890\n",
      "Epoch 2/5\n",
      "2000/2000 [==============================] - 24s - loss: 0.2044 - acc: 0.9375 - val_loss: 0.2022 - val_acc: 0.9360\n",
      "Epoch 3/5\n",
      "2000/2000 [==============================] - 24s - loss: 0.1321 - acc: 0.9605 - val_loss: 0.1661 - val_acc: 0.9470\n",
      "Epoch 4/5\n",
      "2000/2000 [==============================] - 24s - loss: 0.0608 - acc: 0.9800 - val_loss: 0.1207 - val_acc: 0.9630\n",
      "Epoch 5/5\n",
      "2000/2000 [==============================] - 24s - loss: 0.0392 - acc: 0.9890 - val_loss: 0.1712 - val_acc: 0.9610\n"
     ]
    },
    {
     "data": {
      "text/plain": [
       "<keras.callbacks.History at 0x17aa7c450>"
      ]
     },
     "execution_count": 163,
     "metadata": {},
     "output_type": "execute_result"
    }
   ],
   "source": [
    "model.fit(X_train[:2000, :], y_train_ohe[:2000], batch_size = 32, nb_epoch = 5,\n",
    "         validation_data = (X_val[2000:3000, :], y_val_ohe[2000:3000]))"
   ]
  },
  {
   "cell_type": "code",
   "execution_count": null,
   "metadata": {
    "collapsed": true
   },
   "outputs": [],
   "source": []
  }
 ],
 "metadata": {
  "anaconda-cloud": {},
  "kernelspec": {
   "display_name": "Python [Root]",
   "language": "python",
   "name": "Python [Root]"
  },
  "language_info": {
   "codemirror_mode": {
    "name": "ipython",
    "version": 2
   },
   "file_extension": ".py",
   "mimetype": "text/x-python",
   "name": "python",
   "nbconvert_exporter": "python",
   "pygments_lexer": "ipython2",
   "version": "2.7.12"
  }
 },
 "nbformat": 4,
 "nbformat_minor": 0
}
