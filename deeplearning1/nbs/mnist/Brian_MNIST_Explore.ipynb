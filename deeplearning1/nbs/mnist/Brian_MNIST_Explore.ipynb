{
 "cells": [
  {
   "cell_type": "code",
   "execution_count": 1,
   "metadata": {
    "collapsed": false
   },
   "outputs": [],
   "source": [
    "import os, sys\n",
    "import pandas as pd\n",
    "import numpy as np\n",
    "from PIL import Image\n",
    "from matplotlib import pyplot as plt\n",
    "%matplotlib inline\n",
    "\n",
    "HOME = os.getenv(\"HOME\")\n",
    "DATA_DIR = HOME + '/data/mnist/'\n",
    "\n"
   ]
  },
  {
   "cell_type": "code",
   "execution_count": 3,
   "metadata": {
    "collapsed": false
   },
   "outputs": [],
   "source": [
    "#One way to show an image\n",
    "r = np.random.rand(28, 28, 3)\n",
    "img = Image.fromarray(r, 'RGB')\n",
    "img.show()"
   ]
  },
  {
   "cell_type": "code",
   "execution_count": 4,
   "metadata": {
    "collapsed": false
   },
   "outputs": [
    {
     "data": {
      "image/png": "[encoded data removed]",
      "text/plain": [
       "<matplotlib.figure.Figure at 0x7f4751ca2210>"
      ]
     },
     "metadata": {},
     "output_type": "display_data"
    }
   ],
   "source": [
    "#another way\n",
    "plt.imshow(r, interpolation='nearest')\n",
    "plt.show()"
   ]
  },
  {
   "cell_type": "markdown",
   "metadata": {},
   "source": [
    "# Data Prep and Exploration"
   ]
  },
  {
   "cell_type": "code",
   "execution_count": 5,
   "metadata": {
    "collapsed": true
   },
   "outputs": [],
   "source": [
    "train = pd.read_csv(DATA_DIR + 'train.csv')"
   ]
  },
  {
   "cell_type": "code",
   "execution_count": 21,
   "metadata": {
    "collapsed": false
   },
   "outputs": [],
   "source": [
    "from keras.utils.np_utils import to_categorical\n",
    "\n",
    "split_ind = int(0.8 * train.shape[0])\n",
    "X = train.iloc[:, 1:].values / 255.0\n",
    "X_reshape = np.reshape(X, (X.shape[0], 1, 28, 28))\n",
    "X_train = X_reshape[:split_ind, :]\n",
    "X_val = X_reshape[split_ind:, :] \n",
    "Y_train = train.iloc[:split_ind, 0].values\n",
    "Y_val = train.iloc[split_ind:, 0].values\n",
    "y_train_ohe = to_categorical(Y_train)\n",
    "y_val_ohe = to_categorical(Y_val)"
   ]
  },
  {
   "cell_type": "code",
   "execution_count": 7,
   "metadata": {
    "collapsed": false
   },
   "outputs": [
    {
     "data": {
      "image/png": "[encoded data removed]",
      "text/plain": [
       "<matplotlib.figure.Figure at 0x7f4751c70b90>"
      ]
     },
     "metadata": {},
     "output_type": "display_data"
    }
   ],
   "source": [
    "#plot the first few number images\n",
    "s = 16\n",
    "X_plot = np.reshape(X, (X.shape[0], 28, 28))\n",
    "fig = plt.figure()\n",
    "for i in range(16):\n",
    "    fig.add_subplot(4, 4, i + 1)\n",
    "    plt.imshow(X_plot[i] * 255.0, interpolation='nearest', cmap = 'gray')\n",
    "    plt.xticks([])\n",
    "    plt.yticks([])"
   ]
  },
  {
   "cell_type": "markdown",
   "metadata": {},
   "source": [
    "# Build the network"
   ]
  },
  {
   "cell_type": "code",
   "execution_count": 18,
   "metadata": {
    "collapsed": false
   },
   "outputs": [],
   "source": [
    "from keras.models import Sequential\n",
    "from keras.layers import Dense, Dropout, Activation, Flatten\n",
    "from keras.layers import Convolution2D, MaxPooling2D\n",
    "from keras.optimizers import SGD"
   ]
  },
  {
   "cell_type": "markdown",
   "metadata": {},
   "source": [
    "## Simple Conv2 Network"
   ]
  },
  {
   "cell_type": "code",
   "execution_count": 22,
   "metadata": {
    "collapsed": false
   },
   "outputs": [
    {
     "name": "stdout",
     "output_type": "stream",
     "text": [
      "Train on 33600 samples, validate on 8400 samples\n",
      "Epoch 1/10\n",
      "33600/33600 [==============================] - 3s - loss: 0.4579 - acc: 0.8793 - val_loss: 0.2171 - val_acc: 0.9355\n",
      "Epoch 2/10\n",
      "33600/33600 [==============================] - 2s - loss: 0.1783 - acc: 0.9499 - val_loss: 0.1426 - val_acc: 0.9605\n",
      "Epoch 3/10\n",
      "33600/33600 [==============================] - 2s - loss: 0.1161 - acc: 0.9678 - val_loss: 0.1187 - val_acc: 0.9639\n",
      "Epoch 4/10\n",
      "33600/33600 [==============================] - 2s - loss: 0.0896 - acc: 0.9748 - val_loss: 0.0899 - val_acc: 0.9729\n",
      "Epoch 5/10\n",
      "33600/33600 [==============================] - 2s - loss: 0.0743 - acc: 0.9795 - val_loss: 0.0820 - val_acc: 0.9738\n",
      "Epoch 6/10\n",
      "33600/33600 [==============================] - 2s - loss: 0.0648 - acc: 0.9820 - val_loss: 0.0789 - val_acc: 0.9760\n",
      "Epoch 7/10\n",
      "33600/33600 [==============================] - 2s - loss: 0.0573 - acc: 0.9844 - val_loss: 0.0689 - val_acc: 0.9785\n",
      "Epoch 8/10\n",
      "33600/33600 [==============================] - 2s - loss: 0.0509 - acc: 0.9856 - val_loss: 0.0707 - val_acc: 0.9794\n",
      "Epoch 9/10\n",
      "33600/33600 [==============================] - 2s - loss: 0.0461 - acc: 0.9874 - val_loss: 0.0698 - val_acc: 0.9763\n",
      "Epoch 10/10\n",
      "33600/33600 [==============================] - 2s - loss: 0.0428 - acc: 0.9879 - val_loss: 0.0673 - val_acc: 0.9786\n"
     ]
    },
    {
     "data": {
      "text/plain": [
       "<keras.callbacks.History at 0x7f46fe8e03d0>"
      ]
     },
     "execution_count": 22,
     "metadata": {},
     "output_type": "execute_result"
    }
   ],
   "source": [
    "model = Sequential()\n",
    "\n",
    "model.add(Convolution2D(32, 3, 3, border_mode = 'same', input_shape = (1, 28, 28), activation = 'relu'))\n",
    "model.add(MaxPooling2D(pool_size = (2,2), strides = None))\n",
    "model.add(Flatten())\n",
    "\n",
    "model.add(Dense(10, activation='softmax'))\n",
    "model.compile(optimizer = 'adam',  loss='categorical_crossentropy', metrics = ['accuracy'])\n",
    "\n",
    "model.fit(X_train, y_train_ohe, batch_size = 128, nb_epoch = 10, validation_data = (X_val, y_val_ohe))"
   ]
  },
  {
   "cell_type": "code",
   "execution_count": null,
   "metadata": {
    "collapsed": false
   },
   "outputs": [],
   "source": []
  },
  {
   "cell_type": "markdown",
   "metadata": {},
   "source": [
    "## Purely Dense network"
   ]
  },
  {
   "cell_type": "code",
   "execution_count": 23,
   "metadata": {
    "collapsed": true
   },
   "outputs": [],
   "source": [
    "model = Sequential()\n",
    "model.add(Dense(4096, activation='relu', input_dim = 784))\n",
    "model.add(Dropout(0.5))\n",
    "model.add(Dense(4096, activation='relu'))\n",
    "model.add(Dropout(0.5))\n",
    "model.add(Dense(10, activation='softmax', W_regularizer = 'l2'))\n",
    "model.compile(optimizer = 'adam',  loss='categorical_crossentropy', metrics = ['accuracy'])"
   ]
  },
  {
   "cell_type": "code",
   "execution_count": 26,
   "metadata": {
    "collapsed": false
   },
   "outputs": [
    {
     "name": "stdout",
     "output_type": "stream",
     "text": [
      "Train on 33600 samples, validate on 8400 samples\n",
      "Epoch 1/20\n",
      "33600/33600 [==============================] - 24s - loss: 0.3659 - acc: 0.9057 - val_loss: 0.1639 - val_acc: 0.9508\n",
      "Epoch 2/20\n",
      "33600/33600 [==============================] - 25s - loss: 0.2177 - acc: 0.9462 - val_loss: 0.1592 - val_acc: 0.9558\n",
      "Epoch 3/20\n",
      "33600/33600 [==============================] - 25s - loss: 0.1918 - acc: 0.9558 - val_loss: 0.1101 - val_acc: 0.9674\n",
      "Epoch 4/20\n",
      "33600/33600 [==============================] - 24s - loss: 0.1666 - acc: 0.9632 - val_loss: 0.0976 - val_acc: 0.9720\n",
      "Epoch 5/20\n",
      "33600/33600 [==============================] - 24s - loss: 0.1526 - acc: 0.9671 - val_loss: 0.1104 - val_acc: 0.9702\n",
      "Epoch 6/20\n",
      "33600/33600 [==============================] - 24s - loss: 0.1433 - acc: 0.9703 - val_loss: 0.1055 - val_acc: 0.9745\n",
      "Epoch 7/20\n",
      "33600/33600 [==============================] - 24s - loss: 0.1438 - acc: 0.9706 - val_loss: 0.1132 - val_acc: 0.9714\n",
      "Epoch 8/20\n",
      "33600/33600 [==============================] - 24s - loss: 0.1312 - acc: 0.9726 - val_loss: 0.1182 - val_acc: 0.9718\n",
      "Epoch 9/20\n",
      "33600/33600 [==============================] - 24s - loss: 0.1278 - acc: 0.9752 - val_loss: 0.0959 - val_acc: 0.9782\n",
      "Epoch 10/20\n",
      "33600/33600 [==============================] - 24s - loss: 0.1206 - acc: 0.9772 - val_loss: 0.1075 - val_acc: 0.9746\n",
      "Epoch 11/20\n",
      "33600/33600 [==============================] - 24s - loss: 0.1173 - acc: 0.9774 - val_loss: 0.1136 - val_acc: 0.9727\n",
      "Epoch 12/20\n",
      " 7104/33600 [=====>........................] - ETA: 18s - loss: 0.0938 - acc: 0.9832"
     ]
    },
    {
     "ename": "KeyboardInterrupt",
     "evalue": "",
     "output_type": "error",
     "traceback": [
      "\u001b[0;31m---------------------------------------------------------------------------\u001b[0m",
      "\u001b[0;31mKeyboardInterrupt\u001b[0m                         Traceback (most recent call last)",
      "\u001b[0;32m<ipython-input-26-ce3248828ba3>\u001b[0m in \u001b[0;36m<module>\u001b[0;34m()\u001b[0m\n\u001b[1;32m      1\u001b[0m model.fit(X[:split_ind], y_train_ohe, batch_size = 32, nb_epoch = 20,\n\u001b[0;32m----> 2\u001b[0;31m          validation_data = (X[split_ind:], y_val_ohe))\n\u001b[0m",
      "\u001b[0;32m/home/ubuntu/anaconda2/lib/python2.7/site-packages/keras/models.pyc\u001b[0m in \u001b[0;36mfit\u001b[0;34m(self, x, y, batch_size, nb_epoch, verbose, callbacks, validation_split, validation_data, shuffle, class_weight, sample_weight, **kwargs)\u001b[0m\n\u001b[1;32m    625\u001b[0m                               \u001b[0mshuffle\u001b[0m\u001b[0;34m=\u001b[0m\u001b[0mshuffle\u001b[0m\u001b[0;34m,\u001b[0m\u001b[0;34m\u001b[0m\u001b[0m\n\u001b[1;32m    626\u001b[0m                               \u001b[0mclass_weight\u001b[0m\u001b[0;34m=\u001b[0m\u001b[0mclass_weight\u001b[0m\u001b[0;34m,\u001b[0m\u001b[0;34m\u001b[0m\u001b[0m\n\u001b[0;32m--> 627\u001b[0;31m                               sample_weight=sample_weight)\n\u001b[0m\u001b[1;32m    628\u001b[0m \u001b[0;34m\u001b[0m\u001b[0m\n\u001b[1;32m    629\u001b[0m     def evaluate(self, x, y, batch_size=32, verbose=1,\n",
      "\u001b[0;32m/home/ubuntu/anaconda2/lib/python2.7/site-packages/keras/engine/training.pyc\u001b[0m in \u001b[0;36mfit\u001b[0;34m(self, x, y, batch_size, nb_epoch, verbose, callbacks, validation_split, validation_data, shuffle, class_weight, sample_weight)\u001b[0m\n\u001b[1;32m   1122\u001b[0m                               \u001b[0mverbose\u001b[0m\u001b[0;34m=\u001b[0m\u001b[0mverbose\u001b[0m\u001b[0;34m,\u001b[0m \u001b[0mcallbacks\u001b[0m\u001b[0;34m=\u001b[0m\u001b[0mcallbacks\u001b[0m\u001b[0;34m,\u001b[0m\u001b[0;34m\u001b[0m\u001b[0m\n\u001b[1;32m   1123\u001b[0m                               \u001b[0mval_f\u001b[0m\u001b[0;34m=\u001b[0m\u001b[0mval_f\u001b[0m\u001b[0;34m,\u001b[0m \u001b[0mval_ins\u001b[0m\u001b[0;34m=\u001b[0m\u001b[0mval_ins\u001b[0m\u001b[0;34m,\u001b[0m \u001b[0mshuffle\u001b[0m\u001b[0;34m=\u001b[0m\u001b[0mshuffle\u001b[0m\u001b[0;34m,\u001b[0m\u001b[0;34m\u001b[0m\u001b[0m\n\u001b[0;32m-> 1124\u001b[0;31m                               callback_metrics=callback_metrics)\n\u001b[0m\u001b[1;32m   1125\u001b[0m \u001b[0;34m\u001b[0m\u001b[0m\n\u001b[1;32m   1126\u001b[0m     \u001b[0;32mdef\u001b[0m \u001b[0mevaluate\u001b[0m\u001b[0;34m(\u001b[0m\u001b[0mself\u001b[0m\u001b[0;34m,\u001b[0m \u001b[0mx\u001b[0m\u001b[0;34m,\u001b[0m \u001b[0my\u001b[0m\u001b[0;34m,\u001b[0m \u001b[0mbatch_size\u001b[0m\u001b[0;34m=\u001b[0m\u001b[0;36m32\u001b[0m\u001b[0;34m,\u001b[0m \u001b[0mverbose\u001b[0m\u001b[0;34m=\u001b[0m\u001b[0;36m1\u001b[0m\u001b[0;34m,\u001b[0m \u001b[0msample_weight\u001b[0m\u001b[0;34m=\u001b[0m\u001b[0mNone\u001b[0m\u001b[0;34m)\u001b[0m\u001b[0;34m:\u001b[0m\u001b[0;34m\u001b[0m\u001b[0m\n",
      "\u001b[0;32m/home/ubuntu/anaconda2/lib/python2.7/site-packages/keras/engine/training.pyc\u001b[0m in \u001b[0;36m_fit_loop\u001b[0;34m(self, f, ins, out_labels, batch_size, nb_epoch, verbose, callbacks, val_f, val_ins, shuffle, callback_metrics)\u001b[0m\n\u001b[1;32m    840\u001b[0m                 \u001b[0mbatch_logs\u001b[0m\u001b[0;34m[\u001b[0m\u001b[0;34m'size'\u001b[0m\u001b[0;34m]\u001b[0m \u001b[0;34m=\u001b[0m \u001b[0mlen\u001b[0m\u001b[0;34m(\u001b[0m\u001b[0mbatch_ids\u001b[0m\u001b[0;34m)\u001b[0m\u001b[0;34m\u001b[0m\u001b[0m\n\u001b[1;32m    841\u001b[0m                 \u001b[0mcallbacks\u001b[0m\u001b[0;34m.\u001b[0m\u001b[0mon_batch_begin\u001b[0m\u001b[0;34m(\u001b[0m\u001b[0mbatch_index\u001b[0m\u001b[0;34m,\u001b[0m \u001b[0mbatch_logs\u001b[0m\u001b[0;34m)\u001b[0m\u001b[0;34m\u001b[0m\u001b[0m\n\u001b[0;32m--> 842\u001b[0;31m                 \u001b[0mouts\u001b[0m \u001b[0;34m=\u001b[0m \u001b[0mf\u001b[0m\u001b[0;34m(\u001b[0m\u001b[0mins_batch\u001b[0m\u001b[0;34m)\u001b[0m\u001b[0;34m\u001b[0m\u001b[0m\n\u001b[0m\u001b[1;32m    843\u001b[0m                 \u001b[0;32mif\u001b[0m \u001b[0mtype\u001b[0m\u001b[0;34m(\u001b[0m\u001b[0mouts\u001b[0m\u001b[0;34m)\u001b[0m \u001b[0;34m!=\u001b[0m \u001b[0mlist\u001b[0m\u001b[0;34m:\u001b[0m\u001b[0;34m\u001b[0m\u001b[0m\n\u001b[1;32m    844\u001b[0m                     \u001b[0mouts\u001b[0m \u001b[0;34m=\u001b[0m \u001b[0;34m[\u001b[0m\u001b[0mouts\u001b[0m\u001b[0;34m]\u001b[0m\u001b[0;34m\u001b[0m\u001b[0m\n",
      "\u001b[0;32m/home/ubuntu/anaconda2/lib/python2.7/site-packages/keras/backend/theano_backend.pyc\u001b[0m in \u001b[0;36m__call__\u001b[0;34m(self, inputs)\u001b[0m\n\u001b[1;32m    790\u001b[0m     \u001b[0;32mdef\u001b[0m \u001b[0m__call__\u001b[0m\u001b[0;34m(\u001b[0m\u001b[0mself\u001b[0m\u001b[0;34m,\u001b[0m \u001b[0minputs\u001b[0m\u001b[0;34m)\u001b[0m\u001b[0;34m:\u001b[0m\u001b[0;34m\u001b[0m\u001b[0m\n\u001b[1;32m    791\u001b[0m         \u001b[0;32massert\u001b[0m \u001b[0mtype\u001b[0m\u001b[0;34m(\u001b[0m\u001b[0minputs\u001b[0m\u001b[0;34m)\u001b[0m \u001b[0;32min\u001b[0m \u001b[0;34m{\u001b[0m\u001b[0mlist\u001b[0m\u001b[0;34m,\u001b[0m \u001b[0mtuple\u001b[0m\u001b[0;34m}\u001b[0m\u001b[0;34m\u001b[0m\u001b[0m\n\u001b[0;32m--> 792\u001b[0;31m         \u001b[0;32mreturn\u001b[0m \u001b[0mself\u001b[0m\u001b[0;34m.\u001b[0m\u001b[0mfunction\u001b[0m\u001b[0;34m(\u001b[0m\u001b[0;34m*\u001b[0m\u001b[0minputs\u001b[0m\u001b[0;34m)\u001b[0m\u001b[0;34m\u001b[0m\u001b[0m\n\u001b[0m\u001b[1;32m    793\u001b[0m \u001b[0;34m\u001b[0m\u001b[0m\n\u001b[1;32m    794\u001b[0m \u001b[0;34m\u001b[0m\u001b[0m\n",
      "\u001b[0;32m/home/ubuntu/anaconda2/lib/python2.7/site-packages/theano/compile/function_module.pyc\u001b[0m in \u001b[0;36m__call__\u001b[0;34m(self, *args, **kwargs)\u001b[0m\n\u001b[1;32m    857\u001b[0m         \u001b[0mt0_fn\u001b[0m \u001b[0;34m=\u001b[0m \u001b[0mtime\u001b[0m\u001b[0;34m.\u001b[0m\u001b[0mtime\u001b[0m\u001b[0;34m(\u001b[0m\u001b[0;34m)\u001b[0m\u001b[0;34m\u001b[0m\u001b[0m\n\u001b[1;32m    858\u001b[0m         \u001b[0;32mtry\u001b[0m\u001b[0;34m:\u001b[0m\u001b[0;34m\u001b[0m\u001b[0m\n\u001b[0;32m--> 859\u001b[0;31m             \u001b[0moutputs\u001b[0m \u001b[0;34m=\u001b[0m \u001b[0mself\u001b[0m\u001b[0;34m.\u001b[0m\u001b[0mfn\u001b[0m\u001b[0;34m(\u001b[0m\u001b[0;34m)\u001b[0m\u001b[0;34m\u001b[0m\u001b[0m\n\u001b[0m\u001b[1;32m    860\u001b[0m         \u001b[0;32mexcept\u001b[0m \u001b[0mException\u001b[0m\u001b[0;34m:\u001b[0m\u001b[0;34m\u001b[0m\u001b[0m\n\u001b[1;32m    861\u001b[0m             \u001b[0;32mif\u001b[0m \u001b[0mhasattr\u001b[0m\u001b[0;34m(\u001b[0m\u001b[0mself\u001b[0m\u001b[0;34m.\u001b[0m\u001b[0mfn\u001b[0m\u001b[0;34m,\u001b[0m \u001b[0;34m'position_of_error'\u001b[0m\u001b[0;34m)\u001b[0m\u001b[0;34m:\u001b[0m\u001b[0;34m\u001b[0m\u001b[0m\n",
      "\u001b[0;31mKeyboardInterrupt\u001b[0m: "
     ]
    }
   ],
   "source": [
    "model.fit(X[:split_ind], y_train_ohe, batch_size = 32, nb_epoch = 20,\n",
    "         validation_data = (X[split_ind:], y_val_ohe))"
   ]
  },
  {
   "cell_type": "markdown",
   "metadata": {},
   "source": [
    "## RF"
   ]
  },
  {
   "cell_type": "code",
   "execution_count": 28,
   "metadata": {
    "collapsed": false
   },
   "outputs": [
    {
     "data": {
      "text/plain": [
       "0.88833333333333331"
      ]
     },
     "execution_count": 28,
     "metadata": {},
     "output_type": "execute_result"
    }
   ],
   "source": [
    "from sklearn.ensemble import RandomForestClassifier\n",
    "from sklearn.metrics import accuracy_score\n",
    "\n",
    "rf = RandomForestClassifier(n_estimators = 100)\n",
    "rf.fit(X[:split_ind, :], y_train_ohe)\n",
    "preds = rf.predict(X[split_ind:])\n",
    "accuracy_score(y_val_ohe, preds)"
   ]
  },
  {
   "cell_type": "markdown",
   "metadata": {},
   "source": [
    "## Deeper Conv Network"
   ]
  },
  {
   "cell_type": "code",
   "execution_count": 31,
   "metadata": {
    "collapsed": false
   },
   "outputs": [
    {
     "name": "stdout",
     "output_type": "stream",
     "text": [
      "Train on 33600 samples, validate on 8400 samples\n",
      "Epoch 1/10\n",
      "33600/33600 [==============================] - 26s - loss: 0.1631 - acc: 0.9490 - val_loss: 0.0629 - val_acc: 0.9808\n",
      "Epoch 2/10\n",
      "33600/33600 [==============================] - 26s - loss: 0.0615 - acc: 0.9812 - val_loss: 0.0659 - val_acc: 0.9800\n",
      "Epoch 3/10\n",
      "33600/33600 [==============================] - 26s - loss: 0.0464 - acc: 0.9853 - val_loss: 0.0474 - val_acc: 0.9861\n",
      "Epoch 4/10\n",
      "33600/33600 [==============================] - 26s - loss: 0.0370 - acc: 0.9883 - val_loss: 0.0513 - val_acc: 0.9849\n",
      "Epoch 5/10\n",
      "33600/33600 [==============================] - 26s - loss: 0.0322 - acc: 0.9891 - val_loss: 0.0561 - val_acc: 0.9846\n",
      "Epoch 6/10\n",
      "33600/33600 [==============================] - 26s - loss: 0.0252 - acc: 0.9918 - val_loss: 0.0505 - val_acc: 0.9864\n",
      "Epoch 7/10\n",
      "33600/33600 [==============================] - 26s - loss: 0.0228 - acc: 0.9926 - val_loss: 0.0501 - val_acc: 0.9870\n",
      "Epoch 8/10\n",
      "33600/33600 [==============================] - 26s - loss: 0.0205 - acc: 0.9935 - val_loss: 0.0443 - val_acc: 0.9886\n",
      "Epoch 9/10\n",
      "33600/33600 [==============================] - 26s - loss: 0.0162 - acc: 0.9942 - val_loss: 0.0533 - val_acc: 0.9877\n",
      "Epoch 10/10\n",
      "33600/33600 [==============================] - 26s - loss: 0.0156 - acc: 0.9949 - val_loss: 0.0481 - val_acc: 0.9886\n"
     ]
    },
    {
     "data": {
      "text/plain": [
       "<keras.callbacks.History at 0x7f46f4d69110>"
      ]
     },
     "execution_count": 31,
     "metadata": {},
     "output_type": "execute_result"
    }
   ],
   "source": [
    "model = Sequential()\n",
    "model.add(Convolution2D(32, 3, 3, border_mode = 'same', input_shape = (1, 28, 28), activation = 'relu'))\n",
    "model.add(Convolution2D(64, 3, 3, border_mode = 'same', activation = 'relu'))\n",
    "model.add(Convolution2D(128, 3, 3, border_mode = 'same', activation = 'relu'))\n",
    "model.add(MaxPooling2D(pool_size = (2,2), strides = None))\n",
    "model.add(Dropout(0.5))\n",
    "model.add(Flatten())\n",
    "model.add(Dense(10, activation='softmax'))\n",
    "model.compile(optimizer = 'adam',  loss='categorical_crossentropy', metrics = ['accuracy'])\n",
    "\n",
    "model.fit(X_train, y_train_ohe, batch_size = 32, nb_epoch = 10, validation_data = (X_val, y_val_ohe))"
   ]
  },
  {
   "cell_type": "markdown",
   "metadata": {
    "collapsed": false
   },
   "source": [
    "## Deeper Conv Network with 2 Dense layers\n"
   ]
  },
  {
   "cell_type": "code",
   "execution_count": 32,
   "metadata": {
    "collapsed": false
   },
   "outputs": [
    {
     "name": "stdout",
     "output_type": "stream",
     "text": [
      "Train on 33600 samples, validate on 8400 samples\n",
      "Epoch 1/10\n",
      "33600/33600 [==============================] - 38s - loss: 0.3165 - acc: 0.9300 - val_loss: 0.0568 - val_acc: 0.9825\n",
      "Epoch 2/10\n",
      "33600/33600 [==============================] - 38s - loss: 0.1190 - acc: 0.9739 - val_loss: 0.0499 - val_acc: 0.9864\n",
      "Epoch 3/10\n",
      "33600/33600 [==============================] - 38s - loss: 0.0869 - acc: 0.9809 - val_loss: 0.0447 - val_acc: 0.9869\n",
      "Epoch 4/10\n",
      "33600/33600 [==============================] - 38s - loss: 0.0737 - acc: 0.9835 - val_loss: 0.0438 - val_acc: 0.9886\n",
      "Epoch 5/10\n",
      "33600/33600 [==============================] - 37s - loss: 0.0701 - acc: 0.9836 - val_loss: 0.0430 - val_acc: 0.9886\n",
      "Epoch 6/10\n",
      "33600/33600 [==============================] - 37s - loss: 0.0593 - acc: 0.9874 - val_loss: 0.0436 - val_acc: 0.9892\n",
      "Epoch 7/10\n",
      "33600/33600 [==============================] - 37s - loss: 0.0558 - acc: 0.9883 - val_loss: 0.0402 - val_acc: 0.9908\n",
      "Epoch 8/10\n",
      "33600/33600 [==============================] - 38s - loss: 0.0468 - acc: 0.9907 - val_loss: 0.0400 - val_acc: 0.9915\n",
      "Epoch 9/10\n",
      "33600/33600 [==============================] - 37s - loss: 0.0483 - acc: 0.9899 - val_loss: 0.0489 - val_acc: 0.9888\n",
      "Epoch 10/10\n",
      "33600/33600 [==============================] - 37s - loss: 0.0428 - acc: 0.9921 - val_loss: 0.0529 - val_acc: 0.9883\n"
     ]
    },
    {
     "data": {
      "text/plain": [
       "<keras.callbacks.History at 0x7f46f0eae510>"
      ]
     },
     "execution_count": 32,
     "metadata": {},
     "output_type": "execute_result"
    }
   ],
   "source": [
    "model = Sequential()\n",
    "model.add(Convolution2D(32, 3, 3, border_mode = 'same', input_shape = (1, 28, 28), activation = 'relu'))\n",
    "model.add(Convolution2D(64, 3, 3, border_mode = 'same', activation = 'relu'))\n",
    "model.add(Convolution2D(128, 3, 3, border_mode = 'same', activation = 'relu'))\n",
    "model.add(MaxPooling2D(pool_size = (2,2), strides = None))\n",
    "model.add(Dropout(0.5))\n",
    "model.add(Flatten())\n",
    "\n",
    "model.add(Dense(512, activation='relu', input_dim = 784))\n",
    "model.add(Dropout(0.5))\n",
    "model.add(Dense(256, activation='relu'))\n",
    "model.add(Dropout(0.5))\n",
    "model.add(Dense(10, activation='softmax', W_regularizer = 'l2'))\n",
    "\n",
    "model.compile(optimizer = 'adam',  loss='categorical_crossentropy', metrics = ['accuracy'])\n",
    "\n",
    "model.fit(X_train, y_train_ohe, batch_size = 32, nb_epoch = 10, validation_data = (X_val, y_val_ohe))"
   ]
  },
  {
   "cell_type": "code",
   "execution_count": 33,
   "metadata": {
    "collapsed": false
   },
   "outputs": [
    {
     "data": {
      "text/plain": [
       "3"
      ]
     },
     "execution_count": 33,
     "metadata": {},
     "output_type": "execute_result"
    }
   ],
   "source": [
    "1+2"
   ]
  },
  {
   "cell_type": "code",
   "execution_count": 37,
   "metadata": {
    "collapsed": false
   },
   "outputs": [],
   "source": [
    "#test = pd.read_csv(DATA_DIR + 'test.csv')\n",
    "X_test = test.values / 255.0\n",
    "X_test_reshape = np.reshape(X_test, (X_test.shape[0], 1, 28, 28))"
   ]
  },
  {
   "cell_type": "code",
   "execution_count": 38,
   "metadata": {
    "collapsed": false
   },
   "outputs": [],
   "source": [
    "p = model.predict(X_test_reshape)\n",
    "#model.save_weights(DATA_DIR + 'mnist_conv.h5')"
   ]
  },
  {
   "cell_type": "code",
   "execution_count": 56,
   "metadata": {
    "collapsed": false
   },
   "outputs": [],
   "source": [
    "f = lambda x: np.argmax(x)\n",
    "\n",
    "df = pd.DataFrame({'ImageId':test.index.values + 1, 'Label': map(f, p)})"
   ]
  },
  {
   "cell_type": "code",
   "execution_count": 57,
   "metadata": {
    "collapsed": false
   },
   "outputs": [],
   "source": [
    "df.to_csv(DATA_DIR + 'mnist_conv.csv', index = False)"
   ]
  },
  {
   "cell_type": "code",
   "execution_count": null,
   "metadata": {
    "collapsed": true
   },
   "outputs": [],
   "source": []
  }
 ],
 "metadata": {
  "anaconda-cloud": {},
  "kernelspec": {
   "display_name": "Python [conda root]",
   "language": "python",
   "name": "conda-root-py"
  },
  "language_info": {
   "codemirror_mode": {
    "name": "ipython",
    "version": 2
   },
   "file_extension": ".py",
   "mimetype": "text/x-python",
   "name": "python",
   "nbconvert_exporter": "python",
   "pygments_lexer": "ipython2",
   "version": "2.7.12"
  }
 },
 "nbformat": 4,
 "nbformat_minor": 0
}
